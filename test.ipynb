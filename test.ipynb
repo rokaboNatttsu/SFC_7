{
 "cells": [
  {
   "cell_type": "markdown",
   "id": "93db37e6",
   "metadata": {},
   "source": [
    "Juliaでかく。Pythonじゃない"
   ]
  },
  {
   "cell_type": "code",
   "execution_count": 14,
   "id": "9ffcd527",
   "metadata": {},
   "outputs": [],
   "source": [
    "using StatsBase\n",
    "using StatsPlots"
   ]
  }
 ],
 "metadata": {
  "kernelspec": {
   "display_name": "Julia 1.11.5",
   "language": "julia",
   "name": "julia-1.11"
  },
  "language_info": {
   "file_extension": ".jl",
   "mimetype": "application/julia",
   "name": "julia",
   "version": "1.11.5"
  }
 },
 "nbformat": 4,
 "nbformat_minor": 5
}
